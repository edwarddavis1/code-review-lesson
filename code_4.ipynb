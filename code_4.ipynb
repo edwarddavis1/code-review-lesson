{
 "cells": [
  {
   "cell_type": "markdown",
   "metadata": {},
   "source": [
    "Stolen & adapted from [here](https://www.geeksforgeeks.org/create-a-random-password-generator-using-python/)"
   ]
  },
  {
   "cell_type": "code",
   "execution_count": 1,
   "metadata": {},
   "outputs": [
    {
     "name": "stdout",
     "output_type": "stream",
     "text": [
      "Output ff{TZHKO>+,I%~Wk+1X(\n"
     ]
    }
   ],
   "source": [
    "import string\n",
    "import random\n",
    " \n",
    "l = 20\n",
    " \n",
    "List = \"\"\n",
    " \n",
    "List += string.ascii_letters\n",
    "List += string.digits\n",
    "List += string.punctuation\n",
    " \n",
    "output = []\n",
    " \n",
    "for i in range(l):\n",
    "    out = random.choice(List)\n",
    "    output.append(out)\n",
    " \n",
    "# printing password as a string\n",
    "print(\"Output \" + \"\".join(output))"
   ]
  },
  {
   "cell_type": "markdown",
   "metadata": {},
   "source": [
    "- What do you think this code is doing? Do you get a clear idea about the overall aim of this code?\n",
    "- How do you think the code written above could be improved?"
   ]
  }
 ],
 "metadata": {
  "kernelspec": {
   "display_name": "Python 3",
   "language": "python",
   "name": "python3"
  },
  "language_info": {
   "codemirror_mode": {
    "name": "ipython",
    "version": 3
   },
   "file_extension": ".py",
   "mimetype": "text/x-python",
   "name": "python",
   "nbconvert_exporter": "python",
   "pygments_lexer": "ipython3",
   "version": "3.8.10"
  }
 },
 "nbformat": 4,
 "nbformat_minor": 2
}
